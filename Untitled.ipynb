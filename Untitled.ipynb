{
 "cells": [
  {
   "cell_type": "code",
   "execution_count": 2,
   "id": "ce2071ea-daf2-4100-90ef-9ae0db14c267",
   "metadata": {},
   "outputs": [],
   "source": [
    "from torch.utils.data import Dataset #从torch中的常用的工具区，关于数据的data区"
   ]
  },
  {
   "cell_type": "code",
   "execution_count": null,
   "id": "e2f15ac9-324d-4d78-be04-1c89358d55ab",
   "metadata": {},
   "outputs": [],
   "source": []
  }
 ],
 "metadata": {
  "kernelspec": {
   "display_name": "Python 3 (ipykernel)",
   "language": "python",
   "name": "python3"
  },
  "language_info": {
   "codemirror_mode": {
    "name": "ipython",
    "version": 3
   },
   "file_extension": ".py",
   "mimetype": "text/x-python",
   "name": "python",
   "nbconvert_exporter": "python",
   "pygments_lexer": "ipython3",
   "version": "3.11.5"
  }
 },
 "nbformat": 4,
 "nbformat_minor": 5
}
